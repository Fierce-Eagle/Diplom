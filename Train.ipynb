{
 "cells": [
  {
   "cell_type": "code",
   "execution_count": null,
   "id": "c7339b99-bfe4-4f0d-aa1f-807f61091b25",
   "metadata": {},
   "outputs": [],
   "source": [
    "import warnings\n",
    "warnings.filterwarnings('ignore')\n",
    "\n",
    "from my_dataset import create_dataset, create_test_dataset\n",
    "from model import Perceptron_fc1, Perceptron_fc2, Perceptron_fc3\n",
    "from train import train_model, test_model\n",
    "\n",
    "from matplotlib import pyplot as plt\n",
    "import numpy as np \n",
    "import torch\n",
    "import torch.nn as nn\n",
    "from joblib import dump, load"
   ]
  },
  {
   "cell_type": "code",
   "execution_count": null,
   "id": "3256ba50-28e0-4cbb-82fe-70235ba88ab9",
   "metadata": {},
   "outputs": [],
   "source": [
    "if torch.cuda.is_available():\n",
    "    device = torch.device('cuda')\n",
    "else:\n",
    "    device = torch.device('cpu')\n",
    "\n",
    "print('using device:', device)"
   ]
  },
  {
   "cell_type": "markdown",
   "id": "2034581d-2393-46a2-938a-c62bfac08bbe",
   "metadata": {},
   "source": [
    "## Гиперпараметры"
   ]
  },
  {
   "cell_type": "code",
   "execution_count": null,
   "id": "e1d13ef9-7dd8-4317-b0b1-756a75e0fac6",
   "metadata": {},
   "outputs": [],
   "source": [
    "DATASET_DIR = \"dataset_1/\"\n",
    "NUM_EPOCH = 200\n",
    "SPECTRUM_SIZE = 192\n",
    "NUM_CLASSES = 2\n",
    "TIME_FOR_FRAME = 0.04\n",
    "SMOOTH=8\n",
    "STRIDE_TRAIN = 0.9\n",
    "STRIDE_TEST = 0.6\n",
    "BATCH_SIZE = 32"
   ]
  },
  {
   "cell_type": "markdown",
   "id": "61b57d23-5c44-4603-8c00-452305e346c0",
   "metadata": {},
   "source": [
    "## Классификация"
   ]
  },
  {
   "cell_type": "markdown",
   "id": "7f558ce0-21b2-4fe3-999d-4d994da992c7",
   "metadata": {},
   "source": [
    "### Создание датасета"
   ]
  },
  {
   "cell_type": "code",
   "execution_count": null,
   "id": "c2571926-fbac-4701-9a2d-8007cfd15c59",
   "metadata": {
    "scrolled": false
   },
   "outputs": [],
   "source": [
    "train_dataset, valid_dataset, scaler = create_dataset(dir_name=DATASET_DIR,\n",
    "                                                            spectrum_length=SPECTRUM_SIZE,\n",
    "                                                            frame_stride_percent=STRIDE_TRAIN,\n",
    "                                                            time_for_frame=TIME_FOR_FRAME,\n",
    "                                                            frame_time_coeff=6,\n",
    "                                                            smoothing_window_size=SMOOTH,\n",
    "                                                            batch_size=BATCH_SIZE)"
   ]
  },
  {
   "cell_type": "markdown",
   "id": "65f02bab-2a8a-42b5-87c9-34a586f4ac57",
   "metadata": {},
   "source": [
    "### Обучение модели"
   ]
  },
  {
   "cell_type": "code",
   "execution_count": null,
   "id": "36788093-e7ac-4945-a092-92714669fe6a",
   "metadata": {
    "scrolled": true
   },
   "outputs": [],
   "source": [
    "classification_model = Perceptron_fc3(SPECTRUM_SIZE * 6, NUM_CLASSES).to(device)\n",
    "\n",
    "loss_history, best_model = train_model(train_dataset, valid_dataset, classification_model, epochs=NUM_EPOCH, device=device)"
   ]
  },
  {
   "cell_type": "markdown",
   "id": "66741a84-fbf1-4794-acb0-05ca73b30504",
   "metadata": {},
   "source": [
    "#### Результаты"
   ]
  },
  {
   "cell_type": "code",
   "execution_count": null,
   "id": "4a97ae10-990f-4c8b-84ed-0bcf2fd36fce",
   "metadata": {},
   "outputs": [],
   "source": [
    "plt.title('График потерь',fontsize=15)\n",
    "plt.xlabel('Эпохи',fontsize=12)\n",
    "plt.ylabel('Потери',fontsize=12)\n",
    "plt.plot(loss_history)\n",
    "plt.show()"
   ]
  },
  {
   "cell_type": "code",
   "execution_count": null,
   "id": "e6322048",
   "metadata": {},
   "outputs": [],
   "source": [
    "test_dataset = create_test_dataset(folder_path=\"dataset_1/5/\", spectrum_length=SPECTRUM_SIZE,\n",
    "                                   time_for_frame=TIME_FOR_FRAME, smoothing_window_size=SMOOTH, \n",
    "                                   frame_stride_percent=STRIDE_TEST, scaler=scaler)\n",
    "y_pred_test = test_model(model=best_model, loader_test=test_dataset, device=device)\n",
    "\n",
    "y_true_test = []\n",
    "for _, y in test_dataset:\n",
    "    y_true_test += [p.item() for p in y]\n",
    "    \n",
    "\n",
    "y_true_test = np.array(y_true_test)\n",
    "\n",
    "print(\"dataset 5: \", y_pred_test.tolist().count(1) / len(y_pred_test)) # количество грязных данных ко всем данным "
   ]
  },
  {
   "cell_type": "code",
   "execution_count": null,
   "id": "f21f6493",
   "metadata": {
    "scrolled": false
   },
   "outputs": [],
   "source": [
    "test_dataset = create_test_dataset(folder_path=\"dataset_1/10/\", spectrum_length=SPECTRUM_SIZE,\n",
    "                                   time_for_frame=TIME_FOR_FRAME, smoothing_window_size=SMOOTH, \n",
    "                                   frame_stride_percent=STRIDE_TEST, scaler=scaler)\n",
    "y_pred_test = test_model(model=best_model, loader_test=test_dataset, device=device)\n",
    "\n",
    "y_true_test = []\n",
    "for _, y in test_dataset:\n",
    "    y_true_test += [p.item() for p in y]\n",
    "    \n",
    "\n",
    "y_true_test = np.array(y_true_test)\n",
    "\n",
    "print(\"dataset 10: \", y_pred_test.tolist().count(1) / len(y_pred_test)) # количество грязных данных ко всем данным "
   ]
  },
  {
   "cell_type": "code",
   "execution_count": null,
   "id": "30d05e9c",
   "metadata": {},
   "outputs": [],
   "source": [
    "test_dataset = create_test_dataset(folder_path=\"dataset_1/15/\", spectrum_length=SPECTRUM_SIZE,\n",
    "                                   time_for_frame=TIME_FOR_FRAME, smoothing_window_size=SMOOTH, \n",
    "                                   frame_stride_percent=STRIDE_TEST, scaler=scaler)\n",
    "y_pred_test = test_model(model=best_model, loader_test=test_dataset, device=device)\n",
    "\n",
    "y_true_test = []\n",
    "for _, y in test_dataset:\n",
    "    y_true_test += [p.item() for p in y]\n",
    "    \n",
    "\n",
    "y_true_test = np.array(y_true_test)\n",
    "\n",
    "print(\"dataset 15: \", y_pred_test.tolist().count(1) / len(y_pred_test)) # количество грязных данных ко всем данным "
   ]
  },
  {
   "cell_type": "code",
   "execution_count": null,
   "id": "58b448c7",
   "metadata": {
    "scrolled": false
   },
   "outputs": [],
   "source": [
    "test_dataset = create_test_dataset(folder_path=\"dataset_1/20/\", spectrum_length=SPECTRUM_SIZE,\n",
    "                                   time_for_frame=TIME_FOR_FRAME, smoothing_window_size=SMOOTH,\n",
    "                                   frame_stride_percent=STRIDE_TEST, scaler=scaler)\n",
    "y_pred_test = test_model(model=best_model, loader_test=test_dataset, device=device)\n",
    "\n",
    "y_true_test = []\n",
    "for _, y in test_dataset:\n",
    "    y_true_test += [p.item() for p in y]\n",
    "    \n",
    "\n",
    "y_true_test = np.array(y_true_test)\n",
    "\n",
    "print(\"dataset 20: \", y_pred_test.tolist().count(1) / len(y_pred_test)) # количество грязных данных ко всем данным "
   ]
  },
  {
   "cell_type": "code",
   "execution_count": null,
   "id": "cf4b0623",
   "metadata": {},
   "outputs": [],
   "source": [
    "test_dataset = create_test_dataset(folder_path=\"dataset_1/25/\", spectrum_length=SPECTRUM_SIZE,\n",
    "                                   time_for_frame=TIME_FOR_FRAME, smoothing_window_size=SMOOTH, \n",
    "                                   frame_stride_percent=STRIDE_TEST, scaler=scaler)\n",
    "y_pred_test = test_model(model=best_model, loader_test=test_dataset, device=device)\n",
    "\n",
    "y_true_test = []\n",
    "for _, y in test_dataset:\n",
    "    y_true_test += [p.item() for p in y]\n",
    "    \n",
    "\n",
    "y_true_test = np.array(y_true_test)\n",
    "\n",
    "print(\"dataset 25: \", y_pred_test.tolist().count(1) / len(y_pred_test)) # количество грязных данных ко всем данным "
   ]
  },
  {
   "cell_type": "code",
   "execution_count": null,
   "id": "4e44e84f",
   "metadata": {
    "scrolled": false
   },
   "outputs": [],
   "source": [
    "test_dataset = create_test_dataset(folder_path=\"dataset_1/30/\", spectrum_length=SPECTRUM_SIZE,\n",
    "                                   time_for_frame=TIME_FOR_FRAME, smoothing_window_size=SMOOTH, \n",
    "                                   frame_stride_percent=STRIDE_TEST, scaler=scaler)\n",
    "y_pred_test = test_model(model=best_model, loader_test=test_dataset, device=device)\n",
    "\n",
    "y_true_test = []\n",
    "for _, y in test_dataset:\n",
    "    y_true_test += [p.item() for p in y]\n",
    "    \n",
    "\n",
    "y_true_test = np.array(y_true_test)\n",
    "\n",
    "print(\"dataset 30: \", y_pred_test.tolist().count(1) / len(y_pred_test)) # количество грязных данных ко всем данным "
   ]
  },
  {
   "cell_type": "code",
   "execution_count": null,
   "id": "4947ad9a",
   "metadata": {},
   "outputs": [],
   "source": [
    "test_dataset = create_test_dataset(folder_path=\"dataset_1/35/\", spectrum_length=SPECTRUM_SIZE,\n",
    "                                   time_for_frame=TIME_FOR_FRAME, smoothing_window_size=SMOOTH, \n",
    "                                   frame_stride_percent=STRIDE_TEST, scaler=scaler)\n",
    "y_pred_test = test_model(model=best_model, loader_test=test_dataset, device=device)\n",
    "\n",
    "y_true_test = []\n",
    "for _, y in test_dataset:\n",
    "    y_true_test += [p.item() for p in y]\n",
    "    \n",
    "\n",
    "y_true_test = np.array(y_true_test)\n",
    "\n",
    "print(\"dataset 35: \", y_pred_test.tolist().count(1) / len(y_pred_test)) # количество грязных данных ко всем данным "
   ]
  },
  {
   "cell_type": "code",
   "execution_count": null,
   "id": "f4e1c7c7",
   "metadata": {
    "scrolled": false
   },
   "outputs": [],
   "source": [
    "test_dataset = create_test_dataset(folder_path=\"dataset_1/40/\", spectrum_length=SPECTRUM_SIZE,\n",
    "                                   time_for_frame=TIME_FOR_FRAME, smoothing_window_size=SMOOTH, \n",
    "                                   frame_stride_percent=STRIDE_TEST, scaler=scaler)\n",
    "y_pred_test = test_model(model=best_model, loader_test=test_dataset, device=device)\n",
    "\n",
    "y_true_test = []\n",
    "for _, y in test_dataset:\n",
    "    y_true_test += [p.item() for p in y]\n",
    "    \n",
    "\n",
    "y_true_test = np.array(y_true_test)\n",
    "\n",
    "print(\"dataset 40: \", y_pred_test.tolist().count(1) / len(y_pred_test)) # количество грязных данных ко всем данным "
   ]
  },
  {
   "cell_type": "code",
   "execution_count": null,
   "id": "676d2348",
   "metadata": {},
   "outputs": [],
   "source": [
    "test_dataset = create_test_dataset(folder_path=\"dataset_1/45/\", spectrum_length=SPECTRUM_SIZE,\n",
    "                                   time_for_frame=TIME_FOR_FRAME, smoothing_window_size=SMOOTH, \n",
    "                                   frame_stride_percent=STRIDE_TEST, scaler=scaler)\n",
    "y_pred_test = test_model(model=best_model, loader_test=test_dataset, device=device)\n",
    "\n",
    "y_true_test = []\n",
    "for _, y in test_dataset:\n",
    "    y_true_test += [p.item() for p in y]\n",
    "    \n",
    "\n",
    "y_true_test = np.array(y_true_test)\n",
    "\n",
    "print(\"dataset 45: \", y_pred_test.tolist().count(1) / len(y_pred_test)) # количество грязных данных ко всем данным "
   ]
  },
  {
   "cell_type": "code",
   "execution_count": null,
   "id": "32627712",
   "metadata": {
    "scrolled": false
   },
   "outputs": [],
   "source": [
    "test_dataset = create_test_dataset(folder_path=\"dataset_1/50/\", spectrum_length=SPECTRUM_SIZE,\n",
    "                                   time_for_frame=TIME_FOR_FRAME, smoothing_window_size=SMOOTH, \n",
    "                                   frame_stride_percent=STRIDE_TEST, scaler=scaler)\n",
    "y_pred_test = test_model(model=best_model, loader_test=test_dataset, device=device)\n",
    "\n",
    "y_true_test = []\n",
    "for _, y in test_dataset:\n",
    "    y_true_test += [p.item() for p in y]\n",
    "    \n",
    "\n",
    "y_true_test = np.array(y_true_test)\n",
    "\n",
    "print(\"dataset 50: \", y_pred_test.tolist().count(1) / len(y_pred_test)) # количество грязных данных ко всем данным "
   ]
  },
  {
   "cell_type": "code",
   "execution_count": null,
   "id": "783cd4b1",
   "metadata": {},
   "outputs": [],
   "source": [
    "test_dataset = create_test_dataset(folder_path=\"dataset_1/0/\", spectrum_length=SPECTRUM_SIZE,\n",
    "                                   time_for_frame=TIME_FOR_FRAME, smoothing_window_size=SMOOTH, \n",
    "                                   frame_stride_percent=STRIDE_TEST, scaler=scaler)\n",
    "y_pred_test = test_model(model=best_model, loader_test=test_dataset, device=device)\n",
    "\n",
    "y_true_test = []\n",
    "for _, y in test_dataset:\n",
    "    y_true_test += [p.item() for p in y]\n",
    "    \n",
    "\n",
    "y_true_test = np.array(y_true_test)\n",
    "\n",
    "print(\"dataset 0: \", y_pred_test.tolist().count(1) / len(y_pred_test)) # количество грязных данных ко всем данным "
   ]
  },
  {
   "cell_type": "code",
   "execution_count": null,
   "id": "15861d46",
   "metadata": {},
   "outputs": [],
   "source": [
    "stop"
   ]
  },
  {
   "cell_type": "code",
   "execution_count": null,
   "id": "aaccd2b4",
   "metadata": {},
   "outputs": [],
   "source": [
    "dump(scaler, 'scaler_fc3_1.bin', compress=True)"
   ]
  },
  {
   "cell_type": "code",
   "execution_count": null,
   "id": "5bf0e772",
   "metadata": {},
   "outputs": [],
   "source": [
    "torch.save(best_model.state_dict(), 'model_fc3_1.pth')"
   ]
  }
 ],
 "metadata": {
  "kernelspec": {
   "display_name": "Python 3 (ipykernel)",
   "language": "python",
   "name": "python3"
  },
  "language_info": {
   "codemirror_mode": {
    "name": "ipython",
    "version": 3
   },
   "file_extension": ".py",
   "mimetype": "text/x-python",
   "name": "python",
   "nbconvert_exporter": "python",
   "pygments_lexer": "ipython3",
   "version": "3.11.5"
  }
 },
 "nbformat": 4,
 "nbformat_minor": 5
}
