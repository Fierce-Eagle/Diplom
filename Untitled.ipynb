{
 "cells": [
  {
   "cell_type": "code",
   "execution_count": 1,
   "id": "c7339b99-bfe4-4f0d-aa1f-807f61091b25",
   "metadata": {},
   "outputs": [],
   "source": [
    "import warnings\n",
    "warnings.filterwarnings('ignore')\n",
    "\n",
    "from my_dataset import create_dataset, create_test_dataset\n",
    "from model import Perceptron, Regression\n",
    "from train import train_model, test_model, train_regression\n",
    "\n",
    "from matplotlib import pyplot as plt\n",
    "import sklearn.metrics as metrics\n",
    "import numpy as np \n",
    "import torch\n",
    "import torch.nn as nn"
   ]
  },
  {
   "cell_type": "code",
   "execution_count": 2,
   "id": "3256ba50-28e0-4cbb-82fe-70235ba88ab9",
   "metadata": {},
   "outputs": [
    {
     "name": "stdout",
     "output_type": "stream",
     "text": [
      "using device: cpu\n"
     ]
    }
   ],
   "source": [
    "if torch.cuda.is_available():\n",
    "    device = torch.device('cuda')\n",
    "else:\n",
    "    device = torch.device('cpu')\n",
    "\n",
    "print('using device:', device)"
   ]
  },
  {
   "cell_type": "markdown",
   "id": "2034581d-2393-46a2-938a-c62bfac08bbe",
   "metadata": {},
   "source": [
    "## Гиперпараметры"
   ]
  },
  {
   "cell_type": "code",
   "execution_count": 3,
   "id": "e1d13ef9-7dd8-4317-b0b1-756a75e0fac6",
   "metadata": {},
   "outputs": [],
   "source": [
    "DATASET_DIR = \"dataset/\"\n",
    "NUM_EPOCH = 100\n",
    "SPECTRUM_SIZE = 190\n",
    "NUM_CLASSES = 2\n",
    "TIME_FOR_FRAME = 0.04\n",
    "SMOOTH=8\n",
    "STRIDE_TRAIN = 0.7\n",
    "STRIDE_TEST = 0\n",
    "BATCH_SIZE = 32"
   ]
  },
  {
   "cell_type": "markdown",
   "id": "61b57d23-5c44-4603-8c00-452305e346c0",
   "metadata": {},
   "source": [
    "## Классификация"
   ]
  },
  {
   "cell_type": "markdown",
   "id": "7f558ce0-21b2-4fe3-999d-4d994da992c7",
   "metadata": {},
   "source": [
    "### Создание датасета"
   ]
  },
  {
   "cell_type": "code",
   "execution_count": 4,
   "id": "c2571926-fbac-4701-9a2d-8007cfd15c59",
   "metadata": {
    "scrolled": false
   },
   "outputs": [],
   "source": [
    "train_dataset, valid_dataset = create_dataset(dir_name=DATASET_DIR,\n",
    "                                                            spectrum_length=SPECTRUM_SIZE,\n",
    "                                                            frame_stride_percent=STRIDE_TRAIN,\n",
    "                                                            time_for_frame=TIME_FOR_FRAME,\n",
    "                                                            frame_time_coeff=6,\n",
    "                                                            smoothing_window_size=SMOOTH,\n",
    "                                                            batch_size=BATCH_SIZE)"
   ]
  },
  {
   "cell_type": "markdown",
   "id": "65f02bab-2a8a-42b5-87c9-34a586f4ac57",
   "metadata": {},
   "source": [
    "### Обучение модели"
   ]
  },
  {
   "cell_type": "code",
   "execution_count": 5,
   "id": "36788093-e7ac-4945-a092-92714669fe6a",
   "metadata": {
    "scrolled": true
   },
   "outputs": [
    {
     "name": "stdout",
     "output_type": "stream",
     "text": [
      "Epoch [1/100], loss = 0.32978832 acc_val = 0.8935\n",
      "Epoch [2/100], loss = 0.18384352 acc_val = 0.9207\n",
      "Epoch [3/100], loss = 0.15181408 acc_val = 0.9269\n",
      "Epoch [4/100], loss = 0.11213640 acc_val = 0.8998\n",
      "Epoch [5/100], loss = 0.09940996 acc_val = 0.9384\n",
      "Epoch [6/100], loss = 0.07519768 acc_val = 0.9415\n",
      "Epoch [7/100], loss = 0.06603030 acc_val = 0.9541\n",
      "Epoch [8/100], loss = 0.06366221 acc_val = 0.9301\n",
      "Epoch [9/100], loss = 0.06649705 acc_val = 0.9520\n",
      "Epoch [10/100], loss = 0.05346289 acc_val = 0.8570\n",
      "Epoch [11/100], loss = 0.04357472 acc_val = 0.9426\n",
      "Epoch [12/100], loss = 0.06264280 acc_val = 0.9624\n",
      "Epoch [13/100], loss = 0.05203471 acc_val = 0.9687\n",
      "Epoch [14/100], loss = 0.03565024 acc_val = 0.9332\n",
      "Epoch [15/100], loss = 0.04539141 acc_val = 0.9676\n",
      "Epoch [16/100], loss = 0.04132321 acc_val = 0.9614\n",
      "Epoch [17/100], loss = 0.03056002 acc_val = 0.9656\n",
      "Epoch [18/100], loss = 0.04865380 acc_val = 0.7056\n",
      "Epoch [19/100], loss = 0.06006275 acc_val = 0.9228\n",
      "Epoch [20/100], loss = 0.02180853 acc_val = 0.9718\n",
      "Epoch [21/100], loss = 0.01488888 acc_val = 0.9269\n",
      "Epoch [22/100], loss = 0.07910422 acc_val = 0.9676\n",
      "Epoch [23/100], loss = 0.01716142 acc_val = 0.9572\n",
      "Epoch [24/100], loss = 0.06118604 acc_val = 0.9624\n",
      "Epoch [25/100], loss = 0.01252013 acc_val = 0.9624\n",
      "Epoch [26/100], loss = 0.02217564 acc_val = 0.9666\n",
      "Epoch [27/100], loss = 0.01556045 acc_val = 0.9718\n",
      "Epoch [28/100], loss = 0.04055568 acc_val = 0.9499\n",
      "Epoch [29/100], loss = 0.01658016 acc_val = 0.9436\n",
      "Epoch [30/100], loss = 0.00681867 acc_val = 0.9718\n",
      "Epoch [31/100], loss = 0.07920497 acc_val = 0.9468\n",
      "Epoch [32/100], loss = 0.04639800 acc_val = 0.9697\n",
      "Epoch [33/100], loss = 0.01961802 acc_val = 0.9603\n",
      "Epoch [34/100], loss = 0.00990356 acc_val = 0.9572\n",
      "Epoch [35/100], loss = 0.02591764 acc_val = 0.9676\n",
      "Epoch [36/100], loss = 0.01347579 acc_val = 0.9656\n",
      "Epoch [37/100], loss = 0.02522350 acc_val = 0.9676\n",
      "Epoch [38/100], loss = 0.03154820 acc_val = 0.9635\n",
      "Epoch [39/100], loss = 0.00560649 acc_val = 0.9311\n",
      "Epoch [40/100], loss = 0.02553898 acc_val = 0.9280\n",
      "Epoch [41/100], loss = 0.00853538 acc_val = 0.9687\n",
      "Epoch [42/100], loss = 0.00363033 acc_val = 0.9551\n",
      "Epoch [43/100], loss = 0.02078286 acc_val = 0.9509\n",
      "Epoch [44/100], loss = 0.02225751 acc_val = 0.9708\n",
      "Epoch [45/100], loss = 0.01879570 acc_val = 0.9436\n",
      "Epoch [46/100], loss = 0.00887555 acc_val = 0.9708\n",
      "Epoch [47/100], loss = 0.03766298 acc_val = 0.9718\n",
      "Epoch [48/100], loss = 0.00681278 acc_val = 0.9572\n",
      "Epoch [49/100], loss = 0.00322247 acc_val = 0.9697\n",
      "Epoch [50/100], loss = 0.03802080 acc_val = 0.9770\n",
      "Epoch [51/100], loss = 0.01361777 acc_val = 0.9520\n",
      "Epoch [52/100], loss = 0.01672509 acc_val = 0.9666\n",
      "Epoch [53/100], loss = 0.00578179 acc_val = 0.9562\n",
      "Epoch [54/100], loss = 0.00040826 acc_val = 0.9656\n",
      "Epoch [55/100], loss = 0.00026340 acc_val = 0.9614\n",
      "Epoch [56/100], loss = 0.00019709 acc_val = 0.9582\n",
      "Epoch [57/100], loss = 0.00017225 acc_val = 0.9593\n",
      "Epoch [58/100], loss = 0.00015474 acc_val = 0.9582\n",
      "Epoch [59/100], loss = 0.00014152 acc_val = 0.9582\n",
      "Epoch [60/100], loss = 0.00013081 acc_val = 0.9582\n",
      "Epoch [61/100], loss = 0.00012180 acc_val = 0.9582\n",
      "Epoch [62/100], loss = 0.00011393 acc_val = 0.9582\n",
      "Epoch [63/100], loss = 0.00010735 acc_val = 0.9582\n",
      "Epoch [64/100], loss = 0.00010128 acc_val = 0.9582\n",
      "Epoch [65/100], loss = 0.00009542 acc_val = 0.9582\n",
      "Epoch [66/100], loss = 0.00009128 acc_val = 0.9582\n",
      "Epoch [67/100], loss = 0.00008758 acc_val = 0.9582\n",
      "Epoch [68/100], loss = 0.00008371 acc_val = 0.9582\n",
      "Epoch [69/100], loss = 0.00008025 acc_val = 0.9582\n",
      "Epoch [70/100], loss = 0.00007774 acc_val = 0.9582\n",
      "Epoch [71/100], loss = 0.00007474 acc_val = 0.9572\n",
      "Epoch [72/100], loss = 0.00007261 acc_val = 0.9562\n",
      "Epoch [73/100], loss = 0.00007081 acc_val = 0.9551\n",
      "Epoch [74/100], loss = 0.00006911 acc_val = 0.9551\n",
      "Epoch [75/100], loss = 0.00006766 acc_val = 0.9551\n",
      "Epoch [76/100], loss = 0.00006640 acc_val = 0.9551\n",
      "Epoch [77/100], loss = 0.00006418 acc_val = 0.9541\n",
      "Epoch [78/100], loss = 0.00006299 acc_val = 0.9551\n",
      "Epoch [79/100], loss = 0.00006184 acc_val = 0.9541\n",
      "Epoch [80/100], loss = 0.00006106 acc_val = 0.9551\n",
      "Epoch [81/100], loss = 0.00006010 acc_val = 0.9562\n",
      "Epoch [82/100], loss = 0.00006004 acc_val = 0.9582\n",
      "Epoch [83/100], loss = 0.00005844 acc_val = 0.9572\n",
      "Epoch [84/100], loss = 0.00005848 acc_val = 0.9562\n",
      "Epoch [85/100], loss = 0.00005753 acc_val = 0.9582\n",
      "Epoch [86/100], loss = 0.00005716 acc_val = 0.9562\n",
      "Epoch [87/100], loss = 0.00005879 acc_val = 0.9656\n",
      "Epoch [88/100], loss = 0.08473269 acc_val = 0.9791\n",
      "Epoch [89/100], loss = 0.06235544 acc_val = 0.9530\n",
      "Epoch [90/100], loss = 0.03714402 acc_val = 0.9238\n",
      "Epoch [91/100], loss = 0.02124490 acc_val = 0.9656\n",
      "Epoch [92/100], loss = 0.01599707 acc_val = 0.9687\n",
      "Epoch [93/100], loss = 0.03937889 acc_val = 0.9624\n",
      "Epoch [94/100], loss = 0.01541842 acc_val = 0.9708\n",
      "Epoch [95/100], loss = 0.02394449 acc_val = 0.9729\n",
      "Epoch [96/100], loss = 0.02290854 acc_val = 0.8946\n",
      "Epoch [97/100], loss = 0.02846382 acc_val = 0.9645\n",
      "Epoch [98/100], loss = 0.02075821 acc_val = 0.9760\n",
      "Epoch [99/100], loss = 0.01074741 acc_val = 0.9499\n",
      "Epoch [100/100], loss = 0.01944663 acc_val = 0.9572\n",
      "Лучшая точность: tensor(0.9718)\n"
     ]
    }
   ],
   "source": [
    "classification_model = Perceptron(SPECTRUM_SIZE * 6, NUM_CLASSES).to(device)\n",
    "\n",
    "loss_history, best_model = train_model(train_dataset, valid_dataset, classification_model, epochs=NUM_EPOCH, device=device)"
   ]
  },
  {
   "cell_type": "markdown",
   "id": "66741a84-fbf1-4794-acb0-05ca73b30504",
   "metadata": {},
   "source": [
    "#### Результаты"
   ]
  },
  {
   "cell_type": "code",
   "execution_count": 6,
   "id": "4a97ae10-990f-4c8b-84ed-0bcf2fd36fce",
   "metadata": {},
   "outputs": [
    {
     "data": {
      "image/png": "[encoded data removed]",
      "text/plain": [
       "<Figure size 640x480 with 1 Axes>"
      ]
     },
     "metadata": {},
     "output_type": "display_data"
    }
   ],
   "source": [
    "plt.title('График потерь',fontsize=15)\n",
    "plt.xlabel('Эпохи',fontsize=12)\n",
    "plt.ylabel('Потери',fontsize=12)\n",
    "plt.plot(loss_history)\n",
    "plt.show()"
   ]
  },
  {
   "cell_type": "code",
   "execution_count": 7,
   "id": "f21f6493",
   "metadata": {
    "scrolled": false
   },
   "outputs": [
    {
     "name": "stdout",
     "output_type": "stream",
     "text": [
      "dataset 10:  0.10660980810234541\n"
     ]
    }
   ],
   "source": [
    "test_dataset = create_test_dataset(folder_path=\"dataset/10/\", spectrum_length=SPECTRUM_SIZE,\n",
    "                                   time_for_frame=TIME_FOR_FRAME, smoothing_window_size=SMOOTH, \n",
    "                                   frame_stride_percent=STRIDE_TEST)\n",
    "y_pred_test = test_model(model=best_model, loader_test=test_dataset, device=device)\n",
    "\n",
    "y_true_test = []\n",
    "for _, y in test_dataset:\n",
    "    y_true_test += [p.item() for p in y]\n",
    "    \n",
    "\n",
    "y_true_test = np.array(y_true_test)\n",
    "\n",
    "print(\"dataset 10: \", y_pred_test.tolist().count(1) / len(y_pred_test)) # количество грязных данных ко всем данным "
   ]
  },
  {
   "cell_type": "code",
   "execution_count": 8,
   "id": "58b448c7",
   "metadata": {
    "scrolled": false
   },
   "outputs": [
    {
     "name": "stdout",
     "output_type": "stream",
     "text": [
      "dataset 20:  0.23119266055045873\n"
     ]
    }
   ],
   "source": [
    "test_dataset = create_test_dataset(folder_path=\"dataset/20/\", spectrum_length=SPECTRUM_SIZE,\n",
    "                                   time_for_frame=TIME_FOR_FRAME, smoothing_window_size=SMOOTH,\n",
    "                                   frame_stride_percent=STRIDE_TEST)\n",
    "y_pred_test = test_model(model=best_model, loader_test=test_dataset, device=device)\n",
    "\n",
    "y_true_test = []\n",
    "for _, y in test_dataset:\n",
    "    y_true_test += [p.item() for p in y]\n",
    "    \n",
    "\n",
    "y_true_test = np.array(y_true_test)\n",
    "\n",
    "print(\"dataset 20: \", y_pred_test.tolist().count(1) / len(y_pred_test)) # количество грязных данных ко всем данным "
   ]
  },
  {
   "cell_type": "code",
   "execution_count": 9,
   "id": "4e44e84f",
   "metadata": {
    "scrolled": false
   },
   "outputs": [
    {
     "name": "stdout",
     "output_type": "stream",
     "text": [
      "dataset 30:  0.3127035830618892\n"
     ]
    }
   ],
   "source": [
    "test_dataset = create_test_dataset(folder_path=\"dataset/30/\", spectrum_length=SPECTRUM_SIZE,\n",
    "                                   time_for_frame=TIME_FOR_FRAME, smoothing_window_size=SMOOTH, \n",
    "                                   frame_stride_percent=STRIDE_TEST)\n",
    "y_pred_test = test_model(model=best_model, loader_test=test_dataset, device=device)\n",
    "\n",
    "y_true_test = []\n",
    "for _, y in test_dataset:\n",
    "    y_true_test += [p.item() for p in y]\n",
    "    \n",
    "\n",
    "y_true_test = np.array(y_true_test)\n",
    "\n",
    "print(\"dataset 30: \", y_pred_test.tolist().count(1) / len(y_pred_test)) # количество грязных данных ко всем данным "
   ]
  },
  {
   "cell_type": "code",
   "execution_count": 10,
   "id": "f4e1c7c7",
   "metadata": {
    "scrolled": false
   },
   "outputs": [
    {
     "name": "stdout",
     "output_type": "stream",
     "text": [
      "dataset 40:  0.281767955801105\n"
     ]
    }
   ],
   "source": [
    "test_dataset = create_test_dataset(folder_path=\"dataset/40/\", spectrum_length=SPECTRUM_SIZE,\n",
    "                                   time_for_frame=TIME_FOR_FRAME, smoothing_window_size=SMOOTH, \n",
    "                                   frame_stride_percent=STRIDE_TEST)\n",
    "y_pred_test = test_model(model=best_model, loader_test=test_dataset, device=device)\n",
    "\n",
    "y_true_test = []\n",
    "for _, y in test_dataset:\n",
    "    y_true_test += [p.item() for p in y]\n",
    "    \n",
    "\n",
    "y_true_test = np.array(y_true_test)\n",
    "\n",
    "print(\"dataset 40: \", y_pred_test.tolist().count(1) / len(y_pred_test)) # количество грязных данных ко всем данным "
   ]
  },
  {
   "cell_type": "code",
   "execution_count": 11,
   "id": "32627712",
   "metadata": {
    "scrolled": false
   },
   "outputs": [
    {
     "name": "stdout",
     "output_type": "stream",
     "text": [
      "dataset 50:  0.30229007633587784\n"
     ]
    }
   ],
   "source": [
    "test_dataset = create_test_dataset(folder_path=\"dataset/50/\", spectrum_length=SPECTRUM_SIZE,\n",
    "                                   time_for_frame=TIME_FOR_FRAME, smoothing_window_size=SMOOTH, \n",
    "                                   frame_stride_percent=STRIDE_TEST)\n",
    "y_pred_test = test_model(model=best_model, loader_test=test_dataset, device=device)\n",
    "\n",
    "y_true_test = []\n",
    "for _, y in test_dataset:\n",
    "    y_true_test += [p.item() for p in y]\n",
    "    \n",
    "\n",
    "y_true_test = np.array(y_true_test)\n",
    "\n",
    "print(\"dataset 50: \", y_pred_test.tolist().count(1) / len(y_pred_test)) # количество грязных данных ко всем данным "
   ]
  },
  {
   "cell_type": "code",
   "execution_count": 12,
   "id": "d3f8a10a-0d6c-4005-b30c-13632034abb1",
   "metadata": {
    "scrolled": false
   },
   "outputs": [
    {
     "name": "stdout",
     "output_type": "stream",
     "text": [
      "dataset 60:  0.37373737373737376\n"
     ]
    }
   ],
   "source": [
    "test_dataset = create_test_dataset(folder_path=\"dataset/60/\", spectrum_length=SPECTRUM_SIZE,\n",
    "                                   time_for_frame=TIME_FOR_FRAME, smoothing_window_size=SMOOTH, \n",
    "                                   frame_stride_percent=STRIDE_TEST)\n",
    "y_pred_test = test_model(model=best_model, loader_test=test_dataset, device=device)\n",
    "\n",
    "y_true_test = []\n",
    "for _, y in test_dataset:\n",
    "    y_true_test += [p.item() for p in y]\n",
    "    \n",
    "\n",
    "y_true_test = np.array(y_true_test)\n",
    "\n",
    "print(\"dataset 60: \", y_pred_test.tolist().count(1) / len(y_pred_test)) # количество грязных данных ко всем данным \n"
   ]
  },
  {
   "cell_type": "code",
   "execution_count": 13,
   "id": "ae6b0e43",
   "metadata": {},
   "outputs": [
    {
     "name": "stdout",
     "output_type": "stream",
     "text": [
      "dataset 0:  0.01284796573875803\n"
     ]
    }
   ],
   "source": [
    "test_dataset = create_test_dataset(folder_path=\"dataset/0/\", spectrum_length=SPECTRUM_SIZE,\n",
    "                                   time_for_frame=TIME_FOR_FRAME, smoothing_window_size=SMOOTH, \n",
    "                                   frame_stride_percent=STRIDE_TEST)\n",
    "y_pred_test = test_model(model=best_model, loader_test=test_dataset, device=device)\n",
    "\n",
    "y_true_test = []\n",
    "for _, y in test_dataset:\n",
    "    y_true_test += [p.item() for p in y]\n",
    "    \n",
    "\n",
    "y_true_test = np.array(y_true_test)\n",
    "\n",
    "print(\"dataset 0: \", y_pred_test.tolist().count(1) / len(y_pred_test)) # количество грязных данных ко всем данным "
   ]
  },
  {
   "cell_type": "code",
   "execution_count": 14,
   "id": "2042555e",
   "metadata": {},
   "outputs": [
    {
     "ename": "NameError",
     "evalue": "name 'stop' is not defined",
     "output_type": "error",
     "traceback": [
      "\u001b[1;31m---------------------------------------------------------------------------\u001b[0m",
      "\u001b[1;31mNameError\u001b[0m                                 Traceback (most recent call last)",
      "Cell \u001b[1;32mIn[14], line 1\u001b[0m\n\u001b[1;32m----> 1\u001b[0m stop\n",
      "\u001b[1;31mNameError\u001b[0m: name 'stop' is not defined"
     ]
    }
   ],
   "source": [
    "stop"
   ]
  },
  {
   "cell_type": "markdown",
   "id": "2fdf0e62-b082-4914-ac78-a4168481690f",
   "metadata": {},
   "source": [
    "## Регрессия"
   ]
  },
  {
   "cell_type": "markdown",
   "id": "a9f66ded-7ac6-4160-a87f-ac733e3def9b",
   "metadata": {},
   "source": [
    "### Создание датасета"
   ]
  },
  {
   "cell_type": "code",
   "execution_count": null,
   "id": "c1ea2198-6ebe-4f73-93fa-ade47f4a3f57",
   "metadata": {
    "scrolled": true
   },
   "outputs": [],
   "source": [
    "train_reg, test_reg = create_dataset(dir_name=DATASET_DIR, spectrum_length=SPECTRUM_SIZE,\n",
    "                                                                        time_for_frame=1.28,\n",
    "                                                                        is_regression_dataset=True)"
   ]
  },
  {
   "cell_type": "markdown",
   "id": "e9fa4b18-8b04-4732-a871-bf73651f7fce",
   "metadata": {},
   "source": [
    "### Обучение модели"
   ]
  },
  {
   "cell_type": "code",
   "execution_count": null,
   "id": "8c93fa4b-a2c7-4277-b497-c1b51d458c63",
   "metadata": {
    "scrolled": true
   },
   "outputs": [],
   "source": [
    "regression_model = Regression(SPECTRUM_SIZE * 6).to(device)\n",
    "\n",
    "loss_history_reg, best_model_reg = train_regression(train_reg, regression_model, epochs=NUM_EPOCH, device=device)"
   ]
  },
  {
   "cell_type": "code",
   "execution_count": null,
   "id": "7c7d048b",
   "metadata": {},
   "outputs": [],
   "source": []
  },
  {
   "cell_type": "markdown",
   "id": "6711d067-7fb0-4a4b-8b7f-e72d01adc9e8",
   "metadata": {},
   "source": [
    "#### Результаты"
   ]
  },
  {
   "cell_type": "code",
   "execution_count": null,
   "id": "08fe09f8-bddc-4e9a-9cd4-ce235f7d66f0",
   "metadata": {},
   "outputs": [],
   "source": [
    "\n",
    "plt.title('График потерь',fontsize=15)\n",
    "plt.xlabel('Эпохи',fontsize=12)\n",
    "plt.ylabel('Потери',fontsize=12)\n",
    "plt.plot(loss_history_reg)\n",
    "plt.show()\n"
   ]
  },
  {
   "cell_type": "markdown",
   "id": "5dd35b38",
   "metadata": {},
   "source": [
    "### Проверка на тестовом наборе"
   ]
  },
  {
   "cell_type": "code",
   "execution_count": null,
   "id": "42fe07fd",
   "metadata": {
    "scrolled": true
   },
   "outputs": [],
   "source": [
    "y_norm = []\n",
    "y_pred = []\n",
    "for (x, y) in train_reg:\n",
    "    x_tensor = torch.tensor(x, dtype=torch.float32)\n",
    "    predicted = best_model_reg(x_tensor).data.numpy()\n",
    "    y_norm.append(y.numpy())\n",
    "    y_pred.append(predicted.item())\n",
    "\n",
    "y_norm = np.array(y_norm)\n",
    "y_pred = np.array(y_pred)\n",
    "acc = sum(1 for p1, p2 in zip(y_norm, y_pred) if abs(p1 - p2) <= 5) / len(y_norm)\n",
    "print(\"Точность:\", acc)\n",
    "    \n",
    "print(\"Нормальные данные\")\n",
    "print(y_norm)\n",
    "print(\"Предсказанные данные\")\n",
    "print(y_pred)\n",
    "\n",
    "\n",
    "\n",
    "plt.figure(figsize=(15, 6))\n",
    "plt.plot(y_norm, label='norm')\n",
    "plt.plot(y_pred, label='predicted')\n",
    "plt.title(\"Предсказания\")\n",
    "plt.xlabel(\"порядковый номер\")\n",
    "plt.ylabel(\"данные\")\n",
    "plt.legend()\n",
    "plt.show()"
   ]
  },
  {
   "cell_type": "code",
   "execution_count": null,
   "id": "9a2697bf",
   "metadata": {},
   "outputs": [],
   "source": []
  }
 ],
 "metadata": {
  "kernelspec": {
   "display_name": "Python 3 (ipykernel)",
   "language": "python",
   "name": "python3"
  },
  "language_info": {
   "codemirror_mode": {
    "name": "ipython",
    "version": 3
   },
   "file_extension": ".py",
   "mimetype": "text/x-python",
   "name": "python",
   "nbconvert_exporter": "python",
   "pygments_lexer": "ipython3",
   "version": "3.11.5"
  }
 },
 "nbformat": 4,
 "nbformat_minor": 5
}
