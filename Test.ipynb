{
 "cells": [
  {
   "cell_type": "code",
   "execution_count": 1,
   "id": "a21f9274",
   "metadata": {},
   "outputs": [],
   "source": [
    "import warnings\n",
    "warnings.filterwarnings('ignore')\n",
    "from model import Perceptron_fc1, Perceptron_fc2\n",
    "from my_dataset import create_dataset, create_test_dataset\n",
    "from train import train_model, test_model, train_regression\n",
    "from joblib import dump, load\n",
    "\n",
    "from matplotlib import pyplot as plt\n",
    "import sklearn.metrics as metrics\n",
    "import numpy as np \n",
    "import torch\n",
    "import torch.nn as nn"
   ]
  },
  {
   "cell_type": "code",
   "execution_count": 2,
   "id": "dc502c56",
   "metadata": {},
   "outputs": [
    {
     "name": "stdout",
     "output_type": "stream",
     "text": [
      "using device: cpu\n"
     ]
    }
   ],
   "source": [
    "if torch.cuda.is_available():\n",
    "    device = torch.device('cuda')\n",
    "else:\n",
    "    device = torch.device('cpu')\n",
    "\n",
    "print('using device:', device)"
   ]
  },
  {
   "cell_type": "code",
   "execution_count": 3,
   "id": "8fa5f2d9",
   "metadata": {},
   "outputs": [],
   "source": [
    "DATASET_DIR = \"dataset_1/\"\n",
    "SPECTRUM_SIZE = 192\n",
    "NUM_CLASSES = 2\n",
    "TIME_FOR_FRAME = 0.04\n",
    "SMOOTH=8\n",
    "STRIDE_TEST = 0.5"
   ]
  },
  {
   "cell_type": "code",
   "execution_count": 4,
   "id": "0922dd45",
   "metadata": {},
   "outputs": [],
   "source": [
    "model = Perceptron_fc2(SPECTRUM_SIZE * 6, NUM_CLASSES).to(device)\n",
    "model.load_state_dict(torch.load('Models/model_fc2_0.pth'))\n",
    "model.eval()\n",
    "scaler = load('Models\\scaler_fc2_0.bin')"
   ]
  },
  {
   "cell_type": "code",
   "execution_count": 5,
   "id": "2a0d9d54",
   "metadata": {},
   "outputs": [
    {
     "name": "stdout",
     "output_type": "stream",
     "text": [
      "dataset 5:  0.0318272868907189\n"
     ]
    }
   ],
   "source": [
    "test_dataset = create_test_dataset(folder_path=\"dataset_1/5/\", spectrum_length=SPECTRUM_SIZE,\n",
    "                                   time_for_frame=TIME_FOR_FRAME, smoothing_window_size=SMOOTH, \n",
    "                                   frame_stride_percent=STRIDE_TEST, scaler=scaler)\n",
    "y_pred_test = test_model(model=model, loader_test=test_dataset, device=device)\n",
    "\n",
    "y_true_test = []\n",
    "for _, y in test_dataset:\n",
    "    y_true_test += [p.item() for p in y]\n",
    "    \n",
    "\n",
    "y_true_test = np.array(y_true_test)\n",
    "\n",
    "print(\"dataset 5: \", y_pred_test.tolist().count(1) / len(y_pred_test)) # количество грязных данных ко всем данным "
   ]
  },
  {
   "cell_type": "code",
   "execution_count": 6,
   "id": "fa7b0f02",
   "metadata": {},
   "outputs": [
    {
     "name": "stdout",
     "output_type": "stream",
     "text": [
      "dataset 10:  0.07826777910210568\n"
     ]
    }
   ],
   "source": [
    "test_dataset = create_test_dataset(folder_path=\"dataset_1/10/\", spectrum_length=SPECTRUM_SIZE,\n",
    "                                   time_for_frame=TIME_FOR_FRAME, smoothing_window_size=SMOOTH, \n",
    "                                   frame_stride_percent=STRIDE_TEST, scaler=scaler)\n",
    "y_pred_test = test_model(model=model, loader_test=test_dataset, device=device)\n",
    "\n",
    "y_true_test = []\n",
    "for _, y in test_dataset:\n",
    "    y_true_test += [p.item() for p in y]\n",
    "    \n",
    "\n",
    "y_true_test = np.array(y_true_test)\n",
    "\n",
    "print(\"dataset 10: \", y_pred_test.tolist().count(1) / len(y_pred_test)) # количество грязных данных ко всем данным "
   ]
  },
  {
   "cell_type": "code",
   "execution_count": 7,
   "id": "ea687bbd",
   "metadata": {},
   "outputs": [
    {
     "name": "stdout",
     "output_type": "stream",
     "text": [
      "dataset 15:  0.16397228637413394\n"
     ]
    }
   ],
   "source": [
    "test_dataset = create_test_dataset(folder_path=\"dataset_1/15/\", spectrum_length=SPECTRUM_SIZE,\n",
    "                                   time_for_frame=TIME_FOR_FRAME, smoothing_window_size=SMOOTH, \n",
    "                                   frame_stride_percent=STRIDE_TEST, scaler=scaler)\n",
    "y_pred_test = test_model(model=model, loader_test=test_dataset, device=device)\n",
    "\n",
    "y_true_test = []\n",
    "for _, y in test_dataset:\n",
    "    y_true_test += [p.item() for p in y]\n",
    "    \n",
    "\n",
    "y_true_test = np.array(y_true_test)\n",
    "\n",
    "print(\"dataset 15: \", y_pred_test.tolist().count(1) / len(y_pred_test)) # количество грязных данных ко всем данным "
   ]
  },
  {
   "cell_type": "code",
   "execution_count": 8,
   "id": "e86d1ee6",
   "metadata": {},
   "outputs": [
    {
     "name": "stdout",
     "output_type": "stream",
     "text": [
      "dataset 20:  0.26789779913989376\n"
     ]
    }
   ],
   "source": [
    "test_dataset = create_test_dataset(folder_path=\"dataset_1/20/\", spectrum_length=SPECTRUM_SIZE,\n",
    "                                   time_for_frame=TIME_FOR_FRAME, smoothing_window_size=SMOOTH, \n",
    "                                   frame_stride_percent=STRIDE_TEST, scaler=scaler)\n",
    "y_pred_test = test_model(model=model, loader_test=test_dataset, device=device)\n",
    "\n",
    "y_true_test = []\n",
    "for _, y in test_dataset:\n",
    "    y_true_test += [p.item() for p in y]\n",
    "    \n",
    "\n",
    "y_true_test = np.array(y_true_test)\n",
    "\n",
    "print(\"dataset 20: \", y_pred_test.tolist().count(1) / len(y_pred_test)) # количество грязных данных ко всем данным "
   ]
  },
  {
   "cell_type": "code",
   "execution_count": 9,
   "id": "c2a772fb",
   "metadata": {},
   "outputs": [
    {
     "name": "stdout",
     "output_type": "stream",
     "text": [
      "dataset 25:  0.29357319775778906\n"
     ]
    }
   ],
   "source": [
    "test_dataset = create_test_dataset(folder_path=\"dataset_1/25/\", spectrum_length=SPECTRUM_SIZE,\n",
    "                                   time_for_frame=TIME_FOR_FRAME, smoothing_window_size=SMOOTH, \n",
    "                                   frame_stride_percent=STRIDE_TEST, scaler=scaler)\n",
    "y_pred_test = test_model(model=model, loader_test=test_dataset, device=device)\n",
    "\n",
    "y_true_test = []\n",
    "for _, y in test_dataset:\n",
    "    y_true_test += [p.item() for p in y]\n",
    "    \n",
    "\n",
    "y_true_test = np.array(y_true_test)\n",
    "\n",
    "print(\"dataset 25: \", y_pred_test.tolist().count(1) / len(y_pred_test)) # количество грязных данных ко всем данным "
   ]
  }
 ],
 "metadata": {
  "kernelspec": {
   "display_name": "Python 3 (ipykernel)",
   "language": "python",
   "name": "python3"
  },
  "language_info": {
   "codemirror_mode": {
    "name": "ipython",
    "version": 3
   },
   "file_extension": ".py",
   "mimetype": "text/x-python",
   "name": "python",
   "nbconvert_exporter": "python",
   "pygments_lexer": "ipython3",
   "version": "3.11.5"
  }
 },
 "nbformat": 4,
 "nbformat_minor": 5
}
