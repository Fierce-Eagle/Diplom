{
 "cells": [
  {
   "cell_type": "code",
   "execution_count": 1,
   "id": "c5dc8203",
   "metadata": {},
   "outputs": [],
   "source": [
    "# чтобы предупреждения глаза не мазолили\n",
    "import warnings\n",
    "warnings.filterwarnings('ignore')\n",
    "\n",
    "import torch\n",
    "import pandas as pd\n",
    "\n",
    "import my_dataset\n",
    "import train\n",
    "import model"
   ]
  },
  {
   "cell_type": "code",
   "execution_count": 2,
   "id": "080b5119",
   "metadata": {},
   "outputs": [
    {
     "name": "stdout",
     "output_type": "stream",
     "text": [
      "using device: cpu\n"
     ]
    }
   ],
   "source": [
    "if torch.cuda.is_available():\n",
    "    device = torch.device('cuda')\n",
    "else:\n",
    "    device = torch.device('cpu')\n",
    "\n",
    "print('using device:', device)"
   ]
  },
  {
   "cell_type": "code",
   "execution_count": 3,
   "id": "ff926dea",
   "metadata": {},
   "outputs": [],
   "source": [
    "DATASET_PATH = 'dataset/'\n",
    "\n",
    "f0_channel_1, f0_channel_2, f0_channel_3 = my_dataset.load_data(DATASET_PATH + '0.txt')\n",
    "\n",
    "f01_channel_1, f01_channel_2, f01_channel_3 = my_dataset.load_data(DATASET_PATH + '0_1.txt')\n",
    "f02_channel_1, f02_channel_2, f02_channel_3 = my_dataset.load_data(DATASET_PATH + '0_2.txt')\n",
    "\n",
    "f1_channel_1, f1_channel_2, f1_channel_3 = my_dataset.load_data(DATASET_PATH + '1.txt')\n",
    "f11_channel_1, f11_channel_2, f11_channel_3 = my_dataset.load_data(DATASET_PATH + '1_1.txt')\n",
    "f12_channel_1, f12_channel_2, f12_channel_3 = my_dataset.load_data(DATASET_PATH + '1_2.txt')\n",
    "\n",
    "f2_channel_1, f2_channel_2, f2_channel_3 = my_dataset.load_data(DATASET_PATH + '2.txt')\n",
    "f21_channel_1, f21_channel_2, f21_channel_3 = my_dataset.load_data(DATASET_PATH + '2_1.txt')\n",
    "f22_channel_1, f22_channel_2, f22_channel_3 = my_dataset.load_data(DATASET_PATH + '2_2.txt')\n",
    "\n",
    "f3_channel_1, f3_channel_2, f3_channel_3 = my_dataset.load_data(DATASET_PATH + '4.txt')\n",
    "f31_channel_1, f31_channel_2, f31_channel_3 = my_dataset.load_data(DATASET_PATH + '4_1.txt')\n",
    "f32_channel_1, f32_channel_2, f32_channel_3 = my_dataset.load_data(DATASET_PATH + '4_2.txt')\n",
    "\n",
    "f4_channel_1, f4_channel_2, f4_channel_3 = my_dataset.load_data(DATASET_PATH + '6.txt')\n",
    "f41_channel_1, f41_channel_2, f41_channel_3 = my_dataset.load_data(DATASET_PATH + '6_1.txt')\n",
    "f42_channel_1, f42_channel_2, f42_channel_3 = my_dataset.load_data(DATASET_PATH + '6_2.txt')\n",
    "\n",
    "f5_channel_1, f5_channel_2, f5_channel_3 = my_dataset.load_data(DATASET_PATH + '10.txt')\n",
    "f51_channel_1, f51_channel_2, f51_channel_3 = my_dataset.load_data(DATASET_PATH + '10_1.txt')\n",
    "f52_channel_1, f52_channel_2, f52_channel_3 = my_dataset.load_data(DATASET_PATH + '10_2.txt')\n",
    "\n",
    "f6_channel_1, f6_channel_2, f6_channel_3 = my_dataset.load_data(DATASET_PATH + '15.txt')\n",
    "f61_channel_1, f61_channel_2, f61_channel_3 = my_dataset.load_data(DATASET_PATH + '15_1.txt')\n",
    "f62_channel_1, f62_channel_2, f62_channel_3 = my_dataset.load_data(DATASET_PATH + '15_2.txt')\n",
    "\n",
    "f7_channel_1, f7_channel_2, f7_channel_3 = my_dataset.load_data(DATASET_PATH + 'фасоль.txt')\n",
    "f71_channel_1, f71_channel_2, f71_channel_3 = my_dataset.load_data(DATASET_PATH + 'фасоль_1.txt')\n",
    "f72_channel_1, f72_channel_2, f72_channel_3 = my_dataset.load_data(DATASET_PATH + 'фасоль_2.txt')\n",
    "f73_channel_1, f73_channel_2, f73_channel_3 = my_dataset.load_data(DATASET_PATH + 'фасоль_3.txt')\n"
   ]
  },
  {
   "cell_type": "code",
   "execution_count": 4,
   "id": "e819084f",
   "metadata": {},
   "outputs": [],
   "source": [
    "from dataset_processing import split_data_to_dataframe\n",
    "NUM_CLASSES = 8\n",
    "FRAME = 10000\n",
    "STRIDE = 3000\n",
    "SMOOTHING = 5\n",
    "\n",
    "f0_dataset = split_data_to_dataframe(f0_channel_1, f0_channel_2, f0_channel_3, label=0, frame_size=FRAME, frame_stride=STRIDE, smoothing_window=SMOOTHING)\n",
    "\n",
    "f01_dataset = split_data_to_dataframe(f01_channel_1, f01_channel_2, f01_channel_3, label=0, frame_size=FRAME, frame_stride=STRIDE, smoothing_window=SMOOTHING)\n",
    "f02_dataset = split_data_to_dataframe(f02_channel_1, f02_channel_2, f02_channel_3, label=0, frame_size=FRAME, frame_stride=STRIDE, smoothing_window=SMOOTHING)\n",
    "\n",
    "f1_dataset = split_data_to_dataframe(f1_channel_1, f1_channel_2, f1_channel_3, label=1, frame_size=FRAME, frame_stride=STRIDE, smoothing_window=SMOOTHING)\n",
    "f11_dataset = split_data_to_dataframe(f11_channel_1, f11_channel_2, f11_channel_3, label=1, frame_size=FRAME, frame_stride=STRIDE, smoothing_window=SMOOTHING)\n",
    "f12_dataset = split_data_to_dataframe(f12_channel_1, f12_channel_2, f12_channel_3, label=1, frame_size=FRAME, frame_stride=STRIDE, smoothing_window=SMOOTHING)\n",
    "\n",
    "f2_dataset = split_data_to_dataframe(f2_channel_1, f2_channel_2, f2_channel_3, label=2, frame_size=FRAME, frame_stride=STRIDE, smoothing_window=SMOOTHING)\n",
    "f21_dataset = split_data_to_dataframe(f21_channel_1, f21_channel_2, f21_channel_3, label=2, frame_size=FRAME, frame_stride=STRIDE, smoothing_window=SMOOTHING)\n",
    "f22_dataset = split_data_to_dataframe(f22_channel_1, f22_channel_2, f22_channel_3, label=2, frame_size=FRAME, frame_stride=STRIDE, smoothing_window=SMOOTHING)\n",
    "\n",
    "f3_dataset = split_data_to_dataframe(f3_channel_1, f3_channel_2, f3_channel_3, label=3, frame_size=FRAME, frame_stride=STRIDE, smoothing_window=SMOOTHING)\n",
    "f31_dataset = split_data_to_dataframe(f31_channel_1, f31_channel_2, f31_channel_3, label=3, frame_size=FRAME, frame_stride=STRIDE, smoothing_window=SMOOTHING)\n",
    "f32_dataset = split_data_to_dataframe(f32_channel_1, f32_channel_2, f32_channel_3, label=3, frame_size=FRAME, frame_stride=STRIDE, smoothing_window=SMOOTHING)\n",
    "\n",
    "f4_dataset = split_data_to_dataframe(f4_channel_1, f4_channel_2, f4_channel_3, label=4, frame_size=FRAME, frame_stride=STRIDE, smoothing_window=SMOOTHING)\n",
    "f41_dataset = split_data_to_dataframe(f41_channel_1, f41_channel_2, f41_channel_3, label=4, frame_size=FRAME, frame_stride=STRIDE, smoothing_window=SMOOTHING)\n",
    "f42_dataset = split_data_to_dataframe(f42_channel_1, f42_channel_2, f42_channel_3, label=4, frame_size=FRAME, frame_stride=STRIDE, smoothing_window=SMOOTHING)\n",
    "\n",
    "f5_dataset = split_data_to_dataframe(f5_channel_1, f5_channel_2, f5_channel_3, label=5, frame_size=FRAME, frame_stride=STRIDE, smoothing_window=SMOOTHING)\n",
    "f51_dataset = split_data_to_dataframe(f51_channel_1, f51_channel_2, f51_channel_3, label=5, frame_size=FRAME, frame_stride=STRIDE, smoothing_window=SMOOTHING)\n",
    "f52_dataset = split_data_to_dataframe(f52_channel_1, f52_channel_2, f52_channel_3, label=5, frame_size=FRAME, frame_stride=STRIDE, smoothing_window=SMOOTHING)\n",
    "\n",
    "f6_dataset = split_data_to_dataframe(f6_channel_1, f6_channel_2, f6_channel_3, label=6, frame_size=FRAME, frame_stride=STRIDE, smoothing_window=SMOOTHING)\n",
    "f61_dataset = split_data_to_dataframe(f61_channel_1, f61_channel_2, f61_channel_3, label=6, frame_size=FRAME, frame_stride=STRIDE, smoothing_window=SMOOTHING)\n",
    "f62_dataset = split_data_to_dataframe(f62_channel_1, f62_channel_2, f62_channel_3, label=6, frame_size=FRAME, frame_stride=STRIDE, smoothing_window=SMOOTHING)\n",
    "\n",
    "f7_dataset = split_data_to_dataframe(f7_channel_1, f7_channel_2, f7_channel_3, label=7, frame_size=FRAME, frame_stride=STRIDE, smoothing_window=SMOOTHING)\n",
    "f71_dataset = split_data_to_dataframe(f71_channel_1, f71_channel_2, f71_channel_3, label=7, frame_size=FRAME, frame_stride=STRIDE, smoothing_window=SMOOTHING)\n",
    "f72_dataset = split_data_to_dataframe(f72_channel_1, f72_channel_2, f72_channel_3, label=7, frame_size=FRAME, frame_stride=STRIDE, smoothing_window=SMOOTHING)\n",
    "f73_dataset = split_data_to_dataframe(f73_channel_1, f73_channel_2, f73_channel_3, label=7, frame_size=FRAME, frame_stride=STRIDE, smoothing_window=SMOOTHING) \n",
    "\n",
    "\n"
   ]
  },
  {
   "cell_type": "code",
   "execution_count": 5,
   "id": "e720e752-3eb3-432f-8fd6-6e479d293678",
   "metadata": {
    "scrolled": true
   },
   "outputs": [
    {
     "data": {
      "text/html": [
       "<div>\n",
       "<style scoped>\n",
       "    .dataframe tbody tr th:only-of-type {\n",
       "        vertical-align: middle;\n",
       "    }\n",
       "\n",
       "    .dataframe tbody tr th {\n",
       "        vertical-align: top;\n",
       "    }\n",
       "\n",
       "    .dataframe thead th {\n",
       "        text-align: right;\n",
       "    }\n",
       "</style>\n",
       "<table border=\"1\" class=\"dataframe\">\n",
       "  <thead>\n",
       "    <tr style=\"text-align: right;\">\n",
       "      <th></th>\n",
       "      <th>data</th>\n",
       "      <th>label</th>\n",
       "    </tr>\n",
       "  </thead>\n",
       "  <tbody>\n",
       "    <tr>\n",
       "      <th>0</th>\n",
       "      <td>[547.1558240001242, 6.000380074360294, 7.08179...</td>\n",
       "      <td>7</td>\n",
       "    </tr>\n",
       "    <tr>\n",
       "      <th>1</th>\n",
       "      <td>[551.1563412536414, 8.131507765966703, 8.84757...</td>\n",
       "      <td>7</td>\n",
       "    </tr>\n",
       "    <tr>\n",
       "      <th>2</th>\n",
       "      <td>[547.9043306247148, 6.529586591507802, 8.52927...</td>\n",
       "      <td>7</td>\n",
       "    </tr>\n",
       "    <tr>\n",
       "      <th>3</th>\n",
       "      <td>[548.0148947513131, 6.973815728980231, 8.38134...</td>\n",
       "      <td>7</td>\n",
       "    </tr>\n",
       "    <tr>\n",
       "      <th>4</th>\n",
       "      <td>[549.6346389661043, 11.177333833570819, 13.063...</td>\n",
       "      <td>7</td>\n",
       "    </tr>\n",
       "    <tr>\n",
       "      <th>5</th>\n",
       "      <td>[548.4417836535077, 9.330334165548297, 9.86293...</td>\n",
       "      <td>7</td>\n",
       "    </tr>\n",
       "    <tr>\n",
       "      <th>6</th>\n",
       "      <td>[550.1887938672563, 10.434089749663771, 12.709...</td>\n",
       "      <td>7</td>\n",
       "    </tr>\n",
       "    <tr>\n",
       "      <th>7</th>\n",
       "      <td>[552.1359529918615, 10.55977081252718, 12.6197...</td>\n",
       "      <td>7</td>\n",
       "    </tr>\n",
       "    <tr>\n",
       "      <th>8</th>\n",
       "      <td>[546.9431361903058, 6.687661106624795, 7.15528...</td>\n",
       "      <td>7</td>\n",
       "    </tr>\n",
       "  </tbody>\n",
       "</table>\n",
       "</div>"
      ],
      "text/plain": [
       "                                                data  label\n",
       "0  [547.1558240001242, 6.000380074360294, 7.08179...      7\n",
       "1  [551.1563412536414, 8.131507765966703, 8.84757...      7\n",
       "2  [547.9043306247148, 6.529586591507802, 8.52927...      7\n",
       "3  [548.0148947513131, 6.973815728980231, 8.38134...      7\n",
       "4  [549.6346389661043, 11.177333833570819, 13.063...      7\n",
       "5  [548.4417836535077, 9.330334165548297, 9.86293...      7\n",
       "6  [550.1887938672563, 10.434089749663771, 12.709...      7\n",
       "7  [552.1359529918615, 10.55977081252718, 12.6197...      7\n",
       "8  [546.9431361903058, 6.687661106624795, 7.15528...      7"
      ]
     },
     "execution_count": 5,
     "metadata": {},
     "output_type": "execute_result"
    }
   ],
   "source": [
    "f73_dataset"
   ]
  },
  {
   "cell_type": "code",
   "execution_count": 6,
   "id": "01a72058",
   "metadata": {},
   "outputs": [],
   "source": [
    "\n",
    "final_dataset = pd.concat([f0_dataset, f01_dataset], ignore_index=True)\n",
    "final_dataset = pd.concat([final_dataset, f02_dataset], ignore_index=True)\n",
    "\n",
    "final_dataset = pd.concat([final_dataset, f1_dataset], ignore_index=True)\n",
    "final_dataset = pd.concat([final_dataset, f11_dataset], ignore_index=True)\n",
    "final_dataset = pd.concat([final_dataset, f12_dataset], ignore_index=True)\n",
    "\n",
    "final_dataset = pd.concat([final_dataset, f2_dataset], ignore_index=True)\n",
    "final_dataset = pd.concat([final_dataset, f21_dataset], ignore_index=True)\n",
    "final_dataset = pd.concat([final_dataset, f22_dataset], ignore_index=True)\n",
    "\n",
    "final_dataset = pd.concat([final_dataset, f3_dataset], ignore_index=True)\n",
    "final_dataset = pd.concat([final_dataset, f31_dataset], ignore_index=True)\n",
    "final_dataset = pd.concat([final_dataset, f32_dataset], ignore_index=True)\n",
    "\n",
    "final_dataset = pd.concat([final_dataset, f4_dataset], ignore_index=True)\n",
    "final_dataset = pd.concat([final_dataset, f41_dataset], ignore_index=True)\n",
    "final_dataset = pd.concat([final_dataset, f42_dataset], ignore_index=True)\n",
    "\n",
    "final_dataset = pd.concat([final_dataset, f5_dataset], ignore_index=True)\n",
    "final_dataset = pd.concat([final_dataset, f51_dataset], ignore_index=True)\n",
    "final_dataset = pd.concat([final_dataset, f52_dataset], ignore_index=True)\n",
    "\n",
    "final_dataset = pd.concat([final_dataset, f6_dataset], ignore_index=True)\n",
    "\n",
    "final_dataset = pd.concat([final_dataset, f61_dataset], ignore_index=True)\n",
    "final_dataset = pd.concat([final_dataset, f62_dataset], ignore_index=True)\n",
    "\n",
    "final_dataset = pd.concat([final_dataset, f7_dataset], ignore_index=True)\n",
    "final_dataset = pd.concat([final_dataset, f71_dataset], ignore_index=True)\n",
    "final_dataset = pd.concat([final_dataset, f72_dataset], ignore_index=True)\n",
    "final_dataset = pd.concat([final_dataset, f73_dataset], ignore_index=True)\n"
   ]
  },
  {
   "cell_type": "code",
   "execution_count": 7,
   "id": "42154758",
   "metadata": {},
   "outputs": [
    {
     "data": {
      "text/html": [
       "<div>\n",
       "<style scoped>\n",
       "    .dataframe tbody tr th:only-of-type {\n",
       "        vertical-align: middle;\n",
       "    }\n",
       "\n",
       "    .dataframe tbody tr th {\n",
       "        vertical-align: top;\n",
       "    }\n",
       "\n",
       "    .dataframe thead th {\n",
       "        text-align: right;\n",
       "    }\n",
       "</style>\n",
       "<table border=\"1\" class=\"dataframe\">\n",
       "  <thead>\n",
       "    <tr style=\"text-align: right;\">\n",
       "      <th></th>\n",
       "      <th>data</th>\n",
       "      <th>label</th>\n",
       "    </tr>\n",
       "  </thead>\n",
       "  <tbody>\n",
       "    <tr>\n",
       "      <th>0</th>\n",
       "      <td>[540.6701354310643, 7.586658487255329, 5.00114...</td>\n",
       "      <td>0</td>\n",
       "    </tr>\n",
       "    <tr>\n",
       "      <th>1</th>\n",
       "      <td>[536.2583631939614, 5.831798516176202, 5.39740...</td>\n",
       "      <td>0</td>\n",
       "    </tr>\n",
       "    <tr>\n",
       "      <th>2</th>\n",
       "      <td>[533.3449376281127, 3.4640180470965234, 3.1963...</td>\n",
       "      <td>0</td>\n",
       "    </tr>\n",
       "    <tr>\n",
       "      <th>3</th>\n",
       "      <td>[533.3464255743343, 2.7440644304729345, 2.5534...</td>\n",
       "      <td>0</td>\n",
       "    </tr>\n",
       "    <tr>\n",
       "      <th>4</th>\n",
       "      <td>[533.3804737736402, 1.6933502841190118, 1.6123...</td>\n",
       "      <td>0</td>\n",
       "    </tr>\n",
       "    <tr>\n",
       "      <th>...</th>\n",
       "      <td>...</td>\n",
       "      <td>...</td>\n",
       "    </tr>\n",
       "    <tr>\n",
       "      <th>385</th>\n",
       "      <td>[549.6346389661043, 11.177333833570819, 13.063...</td>\n",
       "      <td>7</td>\n",
       "    </tr>\n",
       "    <tr>\n",
       "      <th>386</th>\n",
       "      <td>[548.4417836535077, 9.330334165548297, 9.86293...</td>\n",
       "      <td>7</td>\n",
       "    </tr>\n",
       "    <tr>\n",
       "      <th>387</th>\n",
       "      <td>[550.1887938672563, 10.434089749663771, 12.709...</td>\n",
       "      <td>7</td>\n",
       "    </tr>\n",
       "    <tr>\n",
       "      <th>388</th>\n",
       "      <td>[552.1359529918615, 10.55977081252718, 12.6197...</td>\n",
       "      <td>7</td>\n",
       "    </tr>\n",
       "    <tr>\n",
       "      <th>389</th>\n",
       "      <td>[546.9431361903058, 6.687661106624795, 7.15528...</td>\n",
       "      <td>7</td>\n",
       "    </tr>\n",
       "  </tbody>\n",
       "</table>\n",
       "<p>390 rows × 2 columns</p>\n",
       "</div>"
      ],
      "text/plain": [
       "                                                  data  label\n",
       "0    [540.6701354310643, 7.586658487255329, 5.00114...      0\n",
       "1    [536.2583631939614, 5.831798516176202, 5.39740...      0\n",
       "2    [533.3449376281127, 3.4640180470965234, 3.1963...      0\n",
       "3    [533.3464255743343, 2.7440644304729345, 2.5534...      0\n",
       "4    [533.3804737736402, 1.6933502841190118, 1.6123...      0\n",
       "..                                                 ...    ...\n",
       "385  [549.6346389661043, 11.177333833570819, 13.063...      7\n",
       "386  [548.4417836535077, 9.330334165548297, 9.86293...      7\n",
       "387  [550.1887938672563, 10.434089749663771, 12.709...      7\n",
       "388  [552.1359529918615, 10.55977081252718, 12.6197...      7\n",
       "389  [546.9431361903058, 6.687661106624795, 7.15528...      7\n",
       "\n",
       "[390 rows x 2 columns]"
      ]
     },
     "execution_count": 7,
     "metadata": {},
     "output_type": "execute_result"
    }
   ],
   "source": [
    "final_dataset"
   ]
  },
  {
   "cell_type": "code",
   "execution_count": 8,
   "id": "7f460a92",
   "metadata": {},
   "outputs": [],
   "source": [
    "train_dataset, valid_dataset, test_dataset = my_dataset.train_val_test_split(final_dataset)"
   ]
  },
  {
   "cell_type": "code",
   "execution_count": 9,
   "id": "69ebe163",
   "metadata": {},
   "outputs": [
    {
     "data": {
      "text/html": [
       "<div>\n",
       "<style scoped>\n",
       "    .dataframe tbody tr th:only-of-type {\n",
       "        vertical-align: middle;\n",
       "    }\n",
       "\n",
       "    .dataframe tbody tr th {\n",
       "        vertical-align: top;\n",
       "    }\n",
       "\n",
       "    .dataframe thead th {\n",
       "        text-align: right;\n",
       "    }\n",
       "</style>\n",
       "<table border=\"1\" class=\"dataframe\">\n",
       "  <thead>\n",
       "    <tr style=\"text-align: right;\">\n",
       "      <th></th>\n",
       "      <th>data</th>\n",
       "      <th>label</th>\n",
       "    </tr>\n",
       "  </thead>\n",
       "  <tbody>\n",
       "    <tr>\n",
       "      <th>371</th>\n",
       "      <td>[549.869938338282, 9.306578157470012, 13.21213...</td>\n",
       "      <td>7</td>\n",
       "    </tr>\n",
       "    <tr>\n",
       "      <th>279</th>\n",
       "      <td>[549.2978431533169, 13.12815031193786, 21.5130...</td>\n",
       "      <td>5</td>\n",
       "    </tr>\n",
       "    <tr>\n",
       "      <th>77</th>\n",
       "      <td>[547.4286384087374, 10.667466577571192, 11.039...</td>\n",
       "      <td>1</td>\n",
       "    </tr>\n",
       "    <tr>\n",
       "      <th>98</th>\n",
       "      <td>[549.7638210880177, 11.677337569068541, 12.817...</td>\n",
       "      <td>2</td>\n",
       "    </tr>\n",
       "    <tr>\n",
       "      <th>256</th>\n",
       "      <td>[539.1840099867692, 7.432690413714909, 8.94937...</td>\n",
       "      <td>5</td>\n",
       "    </tr>\n",
       "    <tr>\n",
       "      <th>...</th>\n",
       "      <td>...</td>\n",
       "      <td>...</td>\n",
       "    </tr>\n",
       "    <tr>\n",
       "      <th>9</th>\n",
       "      <td>[538.1074136241643, 6.79102089644183, 6.448882...</td>\n",
       "      <td>0</td>\n",
       "    </tr>\n",
       "    <tr>\n",
       "      <th>291</th>\n",
       "      <td>[545.0216533310729, 11.69817341519904, 20.3304...</td>\n",
       "      <td>5</td>\n",
       "    </tr>\n",
       "    <tr>\n",
       "      <th>54</th>\n",
       "      <td>[544.3935795850542, 6.409580539877071, 8.94144...</td>\n",
       "      <td>1</td>\n",
       "    </tr>\n",
       "    <tr>\n",
       "      <th>53</th>\n",
       "      <td>[543.992504951917, 5.763309122083472, 7.294959...</td>\n",
       "      <td>1</td>\n",
       "    </tr>\n",
       "    <tr>\n",
       "      <th>215</th>\n",
       "      <td>[559.8645855673027, 23.36012908740637, 24.6830...</td>\n",
       "      <td>4</td>\n",
       "    </tr>\n",
       "  </tbody>\n",
       "</table>\n",
       "<p>234 rows × 2 columns</p>\n",
       "</div>"
      ],
      "text/plain": [
       "                                                  data  label\n",
       "371  [549.869938338282, 9.306578157470012, 13.21213...      7\n",
       "279  [549.2978431533169, 13.12815031193786, 21.5130...      5\n",
       "77   [547.4286384087374, 10.667466577571192, 11.039...      1\n",
       "98   [549.7638210880177, 11.677337569068541, 12.817...      2\n",
       "256  [539.1840099867692, 7.432690413714909, 8.94937...      5\n",
       "..                                                 ...    ...\n",
       "9    [538.1074136241643, 6.79102089644183, 6.448882...      0\n",
       "291  [545.0216533310729, 11.69817341519904, 20.3304...      5\n",
       "54   [544.3935795850542, 6.409580539877071, 8.94144...      1\n",
       "53   [543.992504951917, 5.763309122083472, 7.294959...      1\n",
       "215  [559.8645855673027, 23.36012908740637, 24.6830...      4\n",
       "\n",
       "[234 rows x 2 columns]"
      ]
     },
     "execution_count": 9,
     "metadata": {},
     "output_type": "execute_result"
    }
   ],
   "source": [
    "train_dataset"
   ]
  },
  {
   "cell_type": "code",
   "execution_count": 10,
   "id": "79f803a3",
   "metadata": {},
   "outputs": [],
   "source": [
    "train_dataset = train_dataset.reset_index(drop=True)\n",
    "valid_dataset = valid_dataset.reset_index(drop=True)\n",
    "test_dataset = test_dataset.reset_index(drop=True)"
   ]
  },
  {
   "cell_type": "code",
   "execution_count": 11,
   "id": "8dcb11e9",
   "metadata": {},
   "outputs": [],
   "source": [
    "from custom_dataset import CustomDataset\n",
    "\n",
    "train = CustomDataset(train_dataset)\n",
    "valid = CustomDataset(valid_dataset)\n",
    "test = CustomDataset(test_dataset)"
   ]
  },
  {
   "cell_type": "code",
   "execution_count": 12,
   "id": "fbc9a454-9ad2-406d-b6ce-d9165143f851",
   "metadata": {},
   "outputs": [
    {
     "name": "stdout",
     "output_type": "stream",
     "text": [
      "                                                  data  label\n",
      "0    [549.869938338282, 9.306578157470012, 13.21213...      7\n",
      "1    [549.2978431533169, 13.12815031193786, 21.5130...      5\n",
      "2    [547.4286384087374, 10.667466577571192, 11.039...      1\n",
      "3    [549.7638210880177, 11.677337569068541, 12.817...      2\n",
      "4    [539.1840099867692, 7.432690413714909, 8.94937...      5\n",
      "..                                                 ...    ...\n",
      "229  [538.1074136241643, 6.79102089644183, 6.448882...      0\n",
      "230  [545.0216533310729, 11.69817341519904, 20.3304...      5\n",
      "231  [544.3935795850542, 6.409580539877071, 8.94144...      1\n",
      "232  [543.992504951917, 5.763309122083472, 7.294959...      1\n",
      "233  [559.8645855673027, 23.36012908740637, 24.6830...      4\n",
      "\n",
      "[234 rows x 2 columns]\n"
     ]
    }
   ],
   "source": [
    "print(train.data_frame)"
   ]
  },
  {
   "cell_type": "code",
   "execution_count": 13,
   "id": "1a7a700e",
   "metadata": {},
   "outputs": [],
   "source": [
    "from torch.utils.data import DataLoader\n",
    "\n",
    "batch_size = 32 # размер батча\n",
    "train = DataLoader(train, batch_size=batch_size, shuffle=True)\n",
    "valid = DataLoader(valid, batch_size=batch_size, shuffle=False)\n",
    "test = DataLoader(test, batch_size=batch_size, shuffle=False)\n"
   ]
  },
  {
   "cell_type": "code",
   "execution_count": 14,
   "id": "623ef8d0",
   "metadata": {},
   "outputs": [
    {
     "name": "stdout",
     "output_type": "stream",
     "text": [
      "8\n",
      "torch.Size([32, 1, 1, 3000])\n",
      "torch.Size([32, 1])\n"
     ]
    }
   ],
   "source": [
    "print(len(train))\n",
    "for (data, label) in train:\n",
    "    print(data.shape)\n",
    "    print(label.shape)\n",
    "    break"
   ]
  },
  {
   "cell_type": "code",
   "execution_count": 1,
   "id": "9e458bb5",
   "metadata": {
    "scrolled": true
   },
   "outputs": [
    {
     "ename": "NameError",
     "evalue": "name 'device' is not defined",
     "output_type": "error",
     "traceback": [
      "\u001b[0;31m---------------------------------------------------------------------------\u001b[0m",
      "\u001b[0;31mNameError\u001b[0m                                 Traceback (most recent call last)",
      "Cell \u001b[0;32mIn[1], line 4\u001b[0m\n\u001b[1;32m      1\u001b[0m \u001b[38;5;28;01mimport\u001b[39;00m \u001b[38;5;21;01mmodel\u001b[39;00m\n\u001b[1;32m      2\u001b[0m \u001b[38;5;28;01mfrom\u001b[39;00m \u001b[38;5;21;01mtrain\u001b[39;00m \u001b[38;5;28;01mimport\u001b[39;00m train_model\n\u001b[0;32m----> 4\u001b[0m net \u001b[38;5;241m=\u001b[39m model\u001b[38;5;241m.\u001b[39mPerceptron(\u001b[38;5;241m3000\u001b[39m, \u001b[38;5;241m8\u001b[39m)\u001b[38;5;241m.\u001b[39mto(\u001b[43mdevice\u001b[49m)\n\u001b[1;32m      6\u001b[0m loss_history, best_model \u001b[38;5;241m=\u001b[39m train_model(train, valid, net, epochs\u001b[38;5;241m=\u001b[39m\u001b[38;5;241m100\u001b[39m, device\u001b[38;5;241m=\u001b[39mdevice)\n",
      "\u001b[0;31mNameError\u001b[0m: name 'device' is not defined"
     ]
    }
   ],
   "source": [
    "import model\n",
    "from train import train_model\n",
    "\n",
    "net = model.Perceptron(3000, 8).to(device)\n",
    "\n",
    "loss_history, best_model = train_model(train, valid, net, epochs=50, device=device)"
   ]
  },
  {
   "cell_type": "code",
   "execution_count": 16,
   "id": "0c49902c",
   "metadata": {},
   "outputs": [
    {
     "data": {
      "image/png": "[encoded data removed]",
      "text/plain": [
       "<Figure size 640x480 with 1 Axes>"
      ]
     },
     "metadata": {},
     "output_type": "display_data"
    }
   ],
   "source": [
    "from matplotlib import pyplot as plt\n",
    "\n",
    "plt.title('График потерь',fontsize=15)\n",
    "plt.xlabel('Эпохи',fontsize=12)\n",
    "plt.ylabel('Потери',fontsize=12)\n",
    "plt.plot(loss_history)\n",
    "\n",
    "plt.show()"
   ]
  },
  {
   "cell_type": "code",
   "execution_count": 17,
   "id": "5c2c7dd6",
   "metadata": {},
   "outputs": [],
   "source": [
    "from train import test_model\n",
    "\n",
    "y_pred_test = test_model(model=best_model, loader_test=test, device=device)"
   ]
  },
  {
   "cell_type": "code",
   "execution_count": 18,
   "id": "3468f94b",
   "metadata": {},
   "outputs": [
    {
     "name": "stdout",
     "output_type": "stream",
     "text": [
      "Оценка качества F1 (общая): 0.7307692307692307\n",
      "\n",
      "Оценка качества F1 по классам:\n",
      "Оценка качества F1 (0): 0.8235294117647058\n",
      "Оценка качества F1 (1): 0.8571428571428571\n",
      "Оценка качества F1 (2): 0.7368421052631579\n",
      "Оценка качества F1 (3): 0.6153846153846154\n",
      "Оценка качества F1 (4): 0.47058823529411764\n",
      "Оценка качества F1 (5): 0.631578947368421\n",
      "Оценка качества F1 (6): 0.782608695652174\n",
      "Оценка качества F1 (7): 1.0\n"
     ]
    }
   ],
   "source": [
    "import sklearn.metrics as metrics\n",
    "import numpy as np\n",
    "\n",
    "y_true_test = np.array(test_dataset[\"label\"])\n",
    "\n",
    "result_total = metrics.f1_score(y_true_test, y_pred_test, average='micro')\n",
    "class_results = metrics.f1_score(y_true_test, y_pred_test, average=None)\n",
    "\n",
    "\n",
    "print(\"Оценка качества F1 (общая):\", result_total)\n",
    "print()\n",
    "print(\"Оценка качества F1 по классам:\")\n",
    "print(\"Оценка качества F1 (0):\", class_results[0])\n",
    "print(\"Оценка качества F1 (1):\", class_results[1])\n",
    "print(\"Оценка качества F1 (2):\", class_results[2])\n",
    "print(\"Оценка качества F1 (3):\", class_results[3])\n",
    "print(\"Оценка качества F1 (4):\", class_results[4])\n",
    "print(\"Оценка качества F1 (5):\", class_results[5])\n",
    "print(\"Оценка качества F1 (6):\", class_results[6])\n",
    "print(\"Оценка качества F1 (7):\", class_results[7])"
   ]
  },
  {
   "cell_type": "code",
   "execution_count": null,
   "id": "f1af767a",
   "metadata": {},
   "outputs": [],
   "source": []
  }
 ],
 "metadata": {
  "kernelspec": {
   "display_name": "Python 3 (ipykernel)",
   "language": "python",
   "name": "python3"
  },
  "language_info": {
   "codemirror_mode": {
    "name": "ipython",
    "version": 3
   },
   "file_extension": ".py",
   "mimetype": "text/x-python",
   "name": "python",
   "nbconvert_exporter": "python",
   "pygments_lexer": "ipython3",
   "version": "3.10.12"
  }
 },
 "nbformat": 4,
 "nbformat_minor": 5
}
